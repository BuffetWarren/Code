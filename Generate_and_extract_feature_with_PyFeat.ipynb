{
  "nbformat": 4,
  "nbformat_minor": 0,
  "metadata": {
    "colab": {
      "provenance": []
    },
    "kernelspec": {
      "display_name": "Python 3",
      "name": "python3"
    },
    "language_info": {
      "name": "python"
    },
    "accelerator": "GPU"
  },
  "cells": [
    {
      "cell_type": "markdown",
      "metadata": {
        "id": "Ca4s-g2835dd"
      },
      "source": [
        "# **Generate and extract feature with PyFeat**"
      ]
    },
    {
      "cell_type": "code",
      "metadata": {
        "colab": {
          "base_uri": "https://localhost:8080/"
        },
        "id": "ZuF3AZIQ3_kQ",
        "outputId": "97213728-9cb1-45d7-bc85-f0069f56cfaa"
      },
      "source": [
        "# First Clone Project\n",
        "!git clone https://github.com/mrzResearchArena/PyFeat.git"
      ],
      "execution_count": null,
      "outputs": [
        {
          "output_type": "stream",
          "name": "stdout",
          "text": [
            "Cloning into 'PyFeat'...\n",
            "remote: Enumerating objects: 319, done.\u001b[K\n",
            "remote: Counting objects:   6% (1/15)\u001b[K\rremote: Counting objects:  13% (2/15)\u001b[K\rremote: Counting objects:  20% (3/15)\u001b[K\rremote: Counting objects:  26% (4/15)\u001b[K\rremote: Counting objects:  33% (5/15)\u001b[K\rremote: Counting objects:  40% (6/15)\u001b[K\rremote: Counting objects:  46% (7/15)\u001b[K\rremote: Counting objects:  53% (8/15)\u001b[K\rremote: Counting objects:  60% (9/15)\u001b[K\rremote: Counting objects:  66% (10/15)\u001b[K\rremote: Counting objects:  73% (11/15)\u001b[K\rremote: Counting objects:  80% (12/15)\u001b[K\rremote: Counting objects:  86% (13/15)\u001b[K\rremote: Counting objects:  93% (14/15)\u001b[K\rremote: Counting objects: 100% (15/15)\u001b[K\rremote: Counting objects: 100% (15/15), done.\u001b[K\n",
            "remote: Compressing objects: 100% (13/13), done.\u001b[K\n",
            "remote: Total 319 (delta 4), reused 0 (delta 0), pack-reused 304\u001b[K\n",
            "Receiving objects: 100% (319/319), 2.03 MiB | 12.30 MiB/s, done.\n",
            "Resolving deltas: 100% (166/166), done.\n"
          ]
        }
      ]
    },
    {
      "cell_type": "markdown",
      "metadata": {
        "id": "gPwLNvjC3wi1"
      },
      "source": []
    },
    {
      "cell_type": "markdown",
      "metadata": {
        "id": "9NOYhh_d4L8g"
      },
      "source": [
        "Generate Features\n",
        "1. Training Purpose"
      ]
    },
    {
      "cell_type": "code",
      "metadata": {
        "colab": {
          "base_uri": "https://localhost:8080/"
        },
        "id": "knqv5y054FdL",
        "outputId": "8fe8928a-c459-4af1-ccc6-9fb1749feebd"
      },
      "source": [
        "%cd /content/PyFeat/Codes/\n",
        "!python main.py --sequenceType=DNA --fullDataset=1 --optimumDataset=1 --fasta=/content/PyFeat/Datasets/DNA/FASTA.txt --label=/content/PyFeat/Datasets/DNA/Label.txt --kTuple=3 --kGap=5 --pseudoKNC=1 --zCurve=1 --gcContent=1 --cumulativeSkew=1 --atgcRatio=1 --monoMono=1 --monoDi=1 --monoTri=1 --diMono=1 --diDi=1 --diTri=1 --triMono=1 --triDi=1"
      ],
      "execution_count": null,
      "outputs": [
        {
          "output_type": "stream",
          "name": "stdout",
          "text": [
            "/content/PyFeat/Codes\n",
            "\n",
            "Datasets fetching done.\n",
            "Features extraction begins. Be patient! The machine will take some time.\n",
            "Features extraction ends.\n",
            "[Total extracted feature: 14891]\n",
            "\n",
            "Converting (full) CSV is begin.\n",
            "Converting (full) CSV is end.\n",
            "\n",
            "Features selection begins. Be patient! The Machine will take some time.\n",
            "Features selection ends.\n",
            "[Total selected feature: 440]\n",
            "\n",
            "Converting (optimum) CSV is begin.\n",
            "Converting (optimum) CSV is end.\n"
          ]
        }
      ]
    },
    {
      "cell_type": "markdown",
      "metadata": {
        "id": "DdJgMFOG4iAe"
      },
      "source": [
        "2. Evaluation Purpose"
      ]
    },
    {
      "cell_type": "code",
      "metadata": {
        "colab": {
          "base_uri": "https://localhost:8080/"
        },
        "id": "jOq7PMt_6f-o",
        "outputId": "f7b0a23f-bee9-4e68-9d8f-ab2c9fddbf83"
      },
      "source": [
        "!python main.py --sequenceType=Protein --testDataset=1 --fasta=/content/PyFeat/Datasets/Protein/PDB186_independentFASTA.txt --label=/content/PyFeat/Datasets/Protein/PDB186_independentLabel.txt --kTuple=3 --kGap=5 --pseudoKNC=1 --zCurve=1 --gcContent=1 --cumulativeSkew=1 --atgcRatio=1 --monoMono=1 --monoDi=1 --monoTri=1 --diMono=1 --diDi=1 --diTri=1 --triMono=1 --triDi=1"
      ],
      "execution_count": null,
      "outputs": [
        {
          "output_type": "stream",
          "name": "stdout",
          "text": [
            "Traceback (most recent call last):\n",
            "  File \"main.py\", line 108, in <module>\n",
            "    main(args)\n",
            "  File \"main.py\", line 21, in main\n",
            "    X, Y = read.fetchXY(args.fasta, args.label)\n",
            "  File \"/content/PyFeat/Codes/read.py\", line 53, in fetchXY\n",
            "    assert len(X)==len(Y), 'Numbers of sequence and number of labels are not equal.'\n",
            "AssertionError: Numbers of sequence and number of labels are not equal.\n"
          ]
        }
      ]
    },
    {
      "cell_type": "code",
      "metadata": {
        "colab": {
          "base_uri": "https://localhost:8080/"
        },
        "id": "vXjd8_p9cE4y",
        "outputId": "6359fd6d-5da2-4120-88e7-7e960dd9d0ef"
      },
      "source": [
        "!pip install \"cupy-cuda110<8.0.0\""
      ],
      "execution_count": null,
      "outputs": [
        {
          "output_type": "stream",
          "name": "stdout",
          "text": [
            "Requirement already satisfied: cupy-cuda110<8.0.0 in /usr/local/lib/python3.7/dist-packages (7.8.0)\n",
            "Requirement already satisfied: six>=1.9.0 in /usr/local/lib/python3.7/dist-packages (from cupy-cuda110<8.0.0) (1.15.0)\n",
            "Requirement already satisfied: fastrlock>=0.3 in /usr/local/lib/python3.7/dist-packages (from cupy-cuda110<8.0.0) (0.8)\n",
            "Requirement already satisfied: numpy>=1.9.0 in /usr/local/lib/python3.7/dist-packages (from cupy-cuda110<8.0.0) (1.19.5)\n"
          ]
        }
      ]
    },
    {
      "cell_type": "code",
      "metadata": {
        "id": "TFK3-YKmLiPA"
      },
      "source": [],
      "execution_count": null,
      "outputs": []
    },
    {
      "cell_type": "markdown",
      "metadata": {
        "id": "cg9y9peo4gdi"
      },
      "source": []
    }
  ]
}