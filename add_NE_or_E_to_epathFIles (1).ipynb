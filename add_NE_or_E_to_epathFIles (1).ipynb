{
  "nbformat": 4,
  "nbformat_minor": 0,
  "metadata": {
    "colab": {
      "provenance": [],
      "collapsed_sections": []
    },
    "kernelspec": {
      "name": "python3",
      "display_name": "Python 3"
    },
    "language_info": {
      "name": "python"
    }
  },
  "cells": [
    {
      "cell_type": "code",
      "source": [
        "from google.colab import  drive\n",
        "drive.mount('/gdrive')"
      ],
      "metadata": {
        "colab": {
          "base_uri": "https://localhost:8080/"
        },
        "id": "pDeEI0preVd7",
        "outputId": "054f56bf-0901-49ba-e327-bf74162f3369"
      },
      "execution_count": null,
      "outputs": [
        {
          "output_type": "stream",
          "name": "stdout",
          "text": [
            "Mounted at /gdrive\n"
          ]
        }
      ]
    },
    {
      "cell_type": "code",
      "source": [
        "%cd '/gdrive/My Drive/Extraction_organisms'"
      ],
      "metadata": {
        "colab": {
          "base_uri": "https://localhost:8080/"
        },
        "id": "v28rEJsRgSG2",
        "outputId": "b49916c3-ad04-4f8c-a77a-1cfc12e1f4c8"
      },
      "execution_count": null,
      "outputs": [
        {
          "output_type": "stream",
          "name": "stdout",
          "text": [
            "/gdrive/My Drive/Extraction_organisms\n"
          ]
        }
      ]
    },
    {
      "cell_type": "code",
      "source": [
        "import pandas as pd\n",
        "import os"
      ],
      "metadata": {
        "id": "vLPEJFYJglED"
      },
      "execution_count": null,
      "outputs": []
    },
    {
      "cell_type": "code",
      "source": [
        "directory = 'ePath_25_SRB'"
      ],
      "metadata": {
        "id": "kCC2YIcMSjRq"
      },
      "execution_count": null,
      "outputs": []
    },
    {
      "cell_type": "code",
      "source": [
        "for filename in os.listdir(directory):\n",
        "    f = os.path.join(directory, filename)\n",
        "    if os.path.isfile(f):\n",
        "        file_csv = pd.read_csv(f)\n",
        "        for val in range(len(file_csv)):\n",
        "            e_score = float(file_csv.loc[val,'E_Score'])\n",
        "            file_csv.replace(to_replace =\"9.16E-\", \n",
        "                 value = \"0.000\", \n",
        "                  inplace = True)\n",
        "            file_csv.replace(to_replace =\"3.47E-\", \n",
        "                 value = \"0.000\", \n",
        "                  inplace = True)\n",
        "            file_csv.replace(to_replace =\"5.20E-\", \n",
        "                 value = \"0.000\", \n",
        "                  inplace = True)\n",
        "            file_csv.replace(to_replace =\"9.33E-\", \n",
        "                 value = \"0.000\", \n",
        "                  inplace = True)\n",
        "            file_csv.replace(to_replace =\"4.31E-\", \n",
        "                 value = \"0.000\", \n",
        "                  inplace = True)\n",
        "            file_csv.replace(to_replace =\"2.64E-\", \n",
        "                 value = \"0.000\", \n",
        "                  inplace = True)\n",
        "            file_csv.replace(to_replace =\"3.23E-\", \n",
        "                 value = \"0.000\", \n",
        "                  inplace = True)\n",
        "            p_score = float(file_csv.loc[val,'P_Score'])\n",
        "            if (p_score!=0 and e_score!=0):\n",
        "                if e_score>=0.6:\n",
        "                    file_csv.loc[val, 'Gene_essentaility'] = 'E'\n",
        "                else:\n",
        "                    file_csv.loc[val, 'Gene_essentaility'] = 'NE'\n",
        "            else:\n",
        "                if (p_score>=0.03 or e_score>=0.6):\n",
        "                    file_csv.loc[val, 'Gene_essentaility'] = 'E'\n",
        "                else:\n",
        "                    file_csv.loc[val, 'Gene_essentaility'] = 'NE'\n",
        "    file_csv.to_csv(f)\n"
      ],
      "metadata": {
        "id": "QjeCFEFWa5TE"
      },
      "execution_count": null,
      "outputs": []
    }
  ]
}