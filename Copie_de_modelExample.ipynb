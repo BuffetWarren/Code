{
  "nbformat": 4,
  "nbformat_minor": 0,
  "metadata": {
    "colab": {
      "provenance": []
    },
    "kernelspec": {
      "name": "python3",
      "display_name": "Python 3"
    },
    "language_info": {
      "name": "python"
    }
  },
  "cells": [
    {
      "cell_type": "code",
      "source": [
        "!git clone https://github.com/thierrynems/testModel.git\n",
        "%cd /content/testModel\n",
        "!pwd"
      ],
      "metadata": {
        "id": "eu8Gwq9DWH3W",
        "outputId": "15835924-c003-4c71-fd76-94a90ea2f466",
        "colab": {
          "base_uri": "https://localhost:8080/"
        }
      },
      "execution_count": null,
      "outputs": [
        {
          "output_type": "stream",
          "name": "stdout",
          "text": [
            "Cloning into 'testModel'...\n",
            "remote: Enumerating objects: 25, done.\u001b[K\n",
            "remote: Counting objects: 100% (25/25), done.\u001b[K\n",
            "remote: Compressing objects: 100% (25/25), done.\u001b[K\n",
            "remote: Total 25 (delta 9), reused 0 (delta 0), pack-reused 0\u001b[K\n",
            "Unpacking objects: 100% (25/25), done.\n",
            "/content/testModel\n",
            "/content/testModel\n"
          ]
        }
      ]
    },
    {
      "cell_type": "code",
      "source": [
        "%cd test"
      ],
      "metadata": {
        "colab": {
          "base_uri": "https://localhost:8080/"
        },
        "id": "SueDxo0PzdhE",
        "outputId": "ebf7789c-a8e5-47c6-db66-0e0950ad92d4"
      },
      "execution_count": null,
      "outputs": [
        {
          "output_type": "stream",
          "name": "stdout",
          "text": [
            "/content/testModel/test\n"
          ]
        }
      ]
    },
    {
      "cell_type": "code",
      "source": [
        "!python MLModelFull-RandomForest.py"
      ],
      "metadata": {
        "colab": {
          "base_uri": "https://localhost:8080/"
        },
        "id": "U1XL5zxyZjBK",
        "outputId": "d6d97cce-b766-4be8-b4d7-52054dcdbefb"
      },
      "execution_count": null,
      "outputs": [
        {
          "output_type": "stream",
          "name": "stdout",
          "text": [
            "     code  ... execute\n",
            "0    CTDC  ...     1.0\n",
            "1    CTDD  ...     1.0\n",
            "2  CTriad  ...     NaN\n",
            "3     AAC  ...     1.0\n",
            "\n",
            "[4 rows x 5 columns]\n",
            "############################CTDC############################################\n",
            "1 / 4\n",
            "./EssentialFeature_collection_CTDC.csv\n",
            "\n",
            "./Archaeoglobus sulfaticallidus.xlsx\n",
            "\n",
            "./CTDC_Result.json\n",
            "Empty DataFrame\n",
            "Columns: [CTDC_hydrophobicity.Group1, CTDC_hydrophobicity.Group2, CTDC_hydrophobicity.Group3, CTDC_normwaalsvolume.Group1, CTDC_normwaalsvolume.Group2, CTDC_normwaalsvolume.Group3, CTDC_polarity.Group1, CTDC_polarity.Group2, CTDC_polarity.Group3, CTDC_polarizability.Group1, CTDC_polarizability.Group2, CTDC_polarizability.Group3, CTDC_charge.Group1, CTDC_charge.Group2, CTDC_charge.Group3, CTDC_secondarystruct.Group1, CTDC_secondarystruct.Group2, CTDC_secondarystruct.Group3, CTDC_solventaccess.Group1, CTDC_solventaccess.Group2, CTDC_solventaccess.Group3, essential]\n",
            "Index: []\n",
            "Traceback (most recent call last):\n",
            "  File \"MLModelFull-RandomForest.py\", line 194, in <module>\n",
            "    X_train,X_test, y_train,y_test=train_test_split(X,y,test_size=0.2)\n",
            "  File \"/usr/local/lib/python3.7/dist-packages/sklearn/model_selection/_split.py\", line 2421, in train_test_split\n",
            "    n_samples, test_size, train_size, default_test_size=0.25\n",
            "  File \"/usr/local/lib/python3.7/dist-packages/sklearn/model_selection/_split.py\", line 2101, in _validate_shuffle_split\n",
            "    \"aforementioned parameters.\".format(n_samples, test_size, train_size)\n",
            "ValueError: With n_samples=0, test_size=0.2 and train_size=None, the resulting train set will be empty. Adjust any of the aforementioned parameters.\n"
          ]
        }
      ]
    },
    {
      "cell_type": "code",
      "source": [],
      "metadata": {
        "id": "xIlgNgFOzrX8"
      },
      "execution_count": null,
      "outputs": []
    }
  ]
}