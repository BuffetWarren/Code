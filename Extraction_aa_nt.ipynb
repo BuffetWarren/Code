{
  "nbformat": 4,
  "nbformat_minor": 0,
  "metadata": {
    "colab": {
      "provenance": []
    },
    "kernelspec": {
      "name": "python3",
      "display_name": "Python 3"
    },
    "language_info": {
      "name": "python"
    }
  },
  "cells": [
    {
      "cell_type": "code",
      "execution_count": null,
      "metadata": {
        "colab": {
          "base_uri": "https://localhost:8080/"
        },
        "id": "p_uq1_va4OXS",
        "outputId": "68bc187d-be51-4ab0-c958-130634dd7b6a"
      },
      "outputs": [
        {
          "output_type": "stream",
          "name": "stdout",
          "text": [
            "Drive already mounted at /gdrive; to attempt to forcibly remount, call drive.mount(\"/gdrive\", force_remount=True).\n"
          ]
        }
      ],
      "source": [
        "from google.colab import drive\n",
        "drive.mount('/gdrive')"
      ]
    },
    {
      "cell_type": "code",
      "source": [
        "%cd '/gdrive/My Drive/Extraction_sequences'"
      ],
      "metadata": {
        "colab": {
          "base_uri": "https://localhost:8080/"
        },
        "id": "ahHEYCTU4ViS",
        "outputId": "a908fce1-b82b-4992-84aa-dffe637b1256"
      },
      "execution_count": null,
      "outputs": [
        {
          "output_type": "stream",
          "name": "stdout",
          "text": [
            "/gdrive/My Drive/Extraction_sequences\n"
          ]
        }
      ]
    },
    {
      "cell_type": "code",
      "source": [
        "!pip install Bio\n"
      ],
      "metadata": {
        "colab": {
          "base_uri": "https://localhost:8080/"
        },
        "id": "F13lIbq94nkX",
        "outputId": "ca93d3d0-4926-48c9-b22a-fac9b46e93c3"
      },
      "execution_count": null,
      "outputs": [
        {
          "output_type": "stream",
          "name": "stdout",
          "text": [
            "Requirement already satisfied: Bio in /usr/local/lib/python3.7/dist-packages (1.3.3)\n",
            "Requirement already satisfied: biopython>=1.79 in /usr/local/lib/python3.7/dist-packages (from Bio) (1.79)\n",
            "Requirement already satisfied: mygene in /usr/local/lib/python3.7/dist-packages (from Bio) (3.2.2)\n",
            "Requirement already satisfied: requests in /usr/local/lib/python3.7/dist-packages (from Bio) (2.23.0)\n",
            "Requirement already satisfied: tqdm in /usr/local/lib/python3.7/dist-packages (from Bio) (4.62.3)\n",
            "Requirement already satisfied: numpy in /usr/local/lib/python3.7/dist-packages (from biopython>=1.79->Bio) (1.21.5)\n",
            "Requirement already satisfied: biothings-client>=0.2.6 in /usr/local/lib/python3.7/dist-packages (from mygene->Bio) (0.2.6)\n",
            "Requirement already satisfied: chardet<4,>=3.0.2 in /usr/local/lib/python3.7/dist-packages (from requests->Bio) (3.0.4)\n",
            "Requirement already satisfied: urllib3!=1.25.0,!=1.25.1,<1.26,>=1.21.1 in /usr/local/lib/python3.7/dist-packages (from requests->Bio) (1.24.3)\n",
            "Requirement already satisfied: idna<3,>=2.5 in /usr/local/lib/python3.7/dist-packages (from requests->Bio) (2.10)\n",
            "Requirement already satisfied: certifi>=2017.4.17 in /usr/local/lib/python3.7/dist-packages (from requests->Bio) (2021.10.8)\n"
          ]
        }
      ]
    },
    {
      "cell_type": "code",
      "source": [
        "from Bio import SeqIO\n",
        "import requests"
      ],
      "metadata": {
        "id": "_jl-kFJt4sT-"
      },
      "execution_count": null,
      "outputs": []
    },
    {
      "cell_type": "code",
      "source": [
        "with open('list_id_vulgaris.csv','r') as input_file:\n",
        "    ids_list=[line.strip('\\n') for line in input_file]"
      ],
      "metadata": {
        "id": "W1c0DWV048O4"
      },
      "execution_count": null,
      "outputs": []
    },
    {
      "cell_type": "code",
      "source": [
        "len(ids_list)"
      ],
      "metadata": {
        "colab": {
          "base_uri": "https://localhost:8080/"
        },
        "id": "RN4RazX94_9r",
        "outputId": "ee81ca7f-f03e-4b83-87bd-441fc846ebe9"
      },
      "execution_count": null,
      "outputs": [
        {
          "output_type": "execute_result",
          "data": {
            "text/plain": [
              "3633"
            ]
          },
          "metadata": {},
          "execution_count": 11
        }
      ]
    },
    {
      "cell_type": "code",
      "source": [
        "!touch aaseq.fasta ntseq.fasta"
      ],
      "metadata": {
        "id": "FualL_m65y7F"
      },
      "execution_count": null,
      "outputs": []
    },
    {
      "cell_type": "code",
      "source": [
        "ids_list[0]"
      ],
      "metadata": {
        "colab": {
          "base_uri": "https://localhost:8080/",
          "height": 36
        },
        "id": "2ZsRsrG-6bEU",
        "outputId": "f316d9c2-4be2-4974-8c2a-e1853402984c"
      },
      "execution_count": null,
      "outputs": [
        {
          "output_type": "execute_result",
          "data": {
            "application/vnd.google.colaboratory.intrinsic+json": {
              "type": "string"
            },
            "text/plain": [
              "'dvu:DVU_0001'"
            ]
          },
          "metadata": {},
          "execution_count": 14
        }
      ]
    },
    {
      "cell_type": "code",
      "source": [
        "for i in range(len(ids_list)-1):\n",
        "  #Recuperation des sequences via l'API\n",
        "  url_aaseq = \"http://rest.kegg.jp/get/\"+ids_list[i]+\"/aaseq\"\n",
        "  url_ntseq = \"http://rest.kegg.jp/get/\"+ids_list[i]+\"/ntseq\"\n",
        "\n",
        "  \n",
        "  reponse_aaseq = requests.get(url_aaseq)\n",
        "  reponse_ntseq = requests.get(url_ntseq)\n",
        "  content_aaseq = reponse_aaseq.text\n",
        "  content_ntseq = reponse_ntseq.text\n",
        "  #Sauvegarde des sequences AA\n",
        "  with open('aaseq.fasta', 'a') as temp_file:\n",
        "    for item in content_aaseq:\n",
        "        temp_file.write(\"%s\" % item)\n",
        "  #Sauvegarde des sequences de NT \n",
        "  with open('ntseq.fasta', 'a') as temp_file:\n",
        "    for item in content_ntseq:\n",
        "        temp_file.write(\"%s\" % item)"
      ],
      "metadata": {
        "id": "Y29kosqE5FSn"
      },
      "execution_count": null,
      "outputs": []
    },
    {
      "cell_type": "code",
      "source": [],
      "metadata": {
        "id": "-Z5BpNQ458iZ"
      },
      "execution_count": null,
      "outputs": []
    }
  ]
}