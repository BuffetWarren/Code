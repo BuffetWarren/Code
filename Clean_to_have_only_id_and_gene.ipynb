{
  "nbformat": 4,
  "nbformat_minor": 0,
  "metadata": {
    "colab": {
      "provenance": []
    },
    "kernelspec": {
      "name": "python3",
      "display_name": "Python 3"
    },
    "language_info": {
      "name": "python"
    }
  },
  "cells": [
    {
      "cell_type": "code",
      "execution_count": null,
      "metadata": {
        "colab": {
          "base_uri": "https://localhost:8080/"
        },
        "id": "5dHWp9_dqlmu",
        "outputId": "35312d84-2588-4d24-cf0f-ec83119b84ef"
      },
      "outputs": [
        {
          "output_type": "stream",
          "name": "stdout",
          "text": [
            "Mounted at /gdrive\n"
          ]
        }
      ],
      "source": [
        "from google.colab import drive\n",
        "drive.mount('/gdrive')"
      ]
    },
    {
      "cell_type": "code",
      "source": [
        "%cd '/gdrive/My Drive/Extraction_organisms'"
      ],
      "metadata": {
        "colab": {
          "base_uri": "https://localhost:8080/"
        },
        "id": "uANl-UJBq5pP",
        "outputId": "93e4bb33-67b8-44a8-c226-a83c6dddb965"
      },
      "execution_count": null,
      "outputs": [
        {
          "output_type": "stream",
          "name": "stdout",
          "text": [
            "/gdrive/My Drive/Extraction_organisms\n"
          ]
        }
      ]
    },
    {
      "cell_type": "code",
      "source": [
        "import re\n",
        "import csv"
      ],
      "metadata": {
        "id": "9NhKpJ0xrs1C"
      },
      "execution_count": null,
      "outputs": []
    },
    {
      "cell_type": "code",
      "source": [
        "listes = open('Dataset_genes.csv').read()"
      ],
      "metadata": {
        "id": "Hu81ve5RsPzw"
      },
      "execution_count": null,
      "outputs": []
    },
    {
      "cell_type": "code",
      "source": [
        "#characters = []\n",
        "lst = re.findall('\\S+\\S+', listes) \n",
        "for i in lst:\n",
        "    xy = i.split(\",\")\n",
        "    for j in xy:\n",
        "        #print(string)\n",
        "        if j!=\"\":\n",
        "            #characters.append(j)\n",
        "            with open('final_dataset.csv', 'a') as temp_file:\n",
        "                temp_file.write(\"%s\\n\" % j)"
      ],
      "metadata": {
        "id": "Wx1dLyHsrwcx"
      },
      "execution_count": null,
      "outputs": []
    }
  ]
}