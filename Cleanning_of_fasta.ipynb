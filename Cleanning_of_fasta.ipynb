{
  "nbformat": 4,
  "nbformat_minor": 0,
  "metadata": {
    "colab": {
      "provenance": []
    },
    "kernelspec": {
      "name": "python3",
      "display_name": "Python 3"
    },
    "language_info": {
      "name": "python"
    }
  },
  "cells": [
    {
      "cell_type": "markdown",
      "source": [
        "# Nettowage des fichiers fasta d'Acide Aminee et de Nuclueotides \n",
        "Ce fichier permet de nettoyer les fichiers fastas de maniere a obtenir uniquement les identifiant et les sequences"
      ],
      "metadata": {
        "id": "PIwTl7RHCw6C"
      }
    },
    {
      "cell_type": "code",
      "source": [
        "from google.colab import drive\n",
        "drive.mount('/gdrive')"
      ],
      "metadata": {
        "colab": {
          "base_uri": "https://localhost:8080/"
        },
        "id": "PG05NBu8GeFe",
        "outputId": "e8a94300-cffe-44b0-dc86-35e193fa0f4b"
      },
      "execution_count": null,
      "outputs": [
        {
          "output_type": "stream",
          "name": "stdout",
          "text": [
            "Drive already mounted at /gdrive; to attempt to forcibly remount, call drive.mount(\"/gdrive\", force_remount=True).\n"
          ]
        }
      ]
    },
    {
      "cell_type": "code",
      "source": [
        "%cd '/gdrive/My Drive/Extraction_sequences/'"
      ],
      "metadata": {
        "colab": {
          "base_uri": "https://localhost:8080/"
        },
        "id": "Hki8zj4pGwlv",
        "outputId": "ae68afdf-b123-4a05-b6ee-f5fb77015c4f"
      },
      "execution_count": null,
      "outputs": [
        {
          "output_type": "stream",
          "name": "stdout",
          "text": [
            "/gdrive/My Drive/Extraction_sequences\n"
          ]
        }
      ]
    },
    {
      "cell_type": "code",
      "source": [
        "!pip install biopython\n",
        "from Bio import SeqIO"
      ],
      "metadata": {
        "colab": {
          "base_uri": "https://localhost:8080/"
        },
        "id": "GQo8-8hSFN3R",
        "outputId": "6268a83b-2c20-488c-9b01-fa26a64c06ba"
      },
      "execution_count": null,
      "outputs": [
        {
          "output_type": "stream",
          "name": "stdout",
          "text": [
            "Collecting biopython\n",
            "  Downloading biopython-1.79-cp37-cp37m-manylinux_2_5_x86_64.manylinux1_x86_64.whl (2.3 MB)\n",
            "\u001b[K     |████████████████████████████████| 2.3 MB 7.4 MB/s \n",
            "\u001b[?25hRequirement already satisfied: numpy in /usr/local/lib/python3.7/dist-packages (from biopython) (1.21.5)\n",
            "Installing collected packages: biopython\n",
            "Successfully installed biopython-1.79\n"
          ]
        }
      ]
    },
    {
      "cell_type": "code",
      "execution_count": null,
      "metadata": {
        "id": "XliGJdAzCwLC"
      },
      "outputs": [],
      "source": [
        "#Nettoyage du fichier des acides amines\n",
        "with open(\"aaseq.fasta\") as handle:\n",
        "  with open('aaseq_clean.fasta','a') as clean_file:\n",
        "    for record in SeqIO.parse(handle, \"fasta\"):\n",
        "        clean_file.write('>'+\"%s\" %record.id.upper()+'\\n')\n",
        "        clean_file.write(\"%s\" %record.seq.upper()+'\\n')"
      ]
    },
    {
      "cell_type": "code",
      "source": [
        "#Nettoyage du fichier des nuclueotides\n",
        "with open(\"ntseq.fasta\") as handle:\n",
        "  with open('ntseq_clean.fasta','a') as clean_file:\n",
        "    for record in SeqIO.parse(handle, \"fasta\"):\n",
        "        clean_file.write('>'+\"%s\" %record.id.upper()+'\\n')\n",
        "        clean_file.write(\"%s\" %record.seq.upper()+'\\n')"
      ],
      "metadata": {
        "id": "zMfHN8DUFIIE"
      },
      "execution_count": null,
      "outputs": []
    }
  ]
}